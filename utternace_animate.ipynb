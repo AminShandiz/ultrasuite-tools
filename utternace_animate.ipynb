{
 "cells": [
  {
   "cell_type": "markdown",
   "metadata": {},
   "source": [
    "# Create a video of the utterance"
   ]
  },
  {
   "cell_type": "markdown",
   "metadata": {},
   "source": [
    "Each utterance is represented as a tuple of four files:\n",
    "\n",
    "* The prompt file: .txt\n",
    "* The audio file: .wav\n",
    "* The ultrasound file: .ult\n",
    "* The parameter file: .param\n",
    "\n",
    "In this notebook, we will use all four to create a video of the utterance."
   ]
  },
  {
   "cell_type": "code",
   "execution_count": 1,
   "metadata": {},
   "outputs": [],
   "source": [
    "import os"
   ]
  },
  {
   "cell_type": "code",
   "execution_count": 2,
   "metadata": {},
   "outputs": [],
   "source": [
    "input_path = \"input\""
   ]
  },
  {
   "cell_type": "code",
   "execution_count": 3,
   "metadata": {},
   "outputs": [],
   "source": [
    "file = \"sample\""
   ]
  },
  {
   "cell_type": "code",
   "execution_count": 4,
   "metadata": {},
   "outputs": [],
   "source": [
    "output_path = \"output\"\n",
    "if not os.path.exists(output_path):\n",
    "    os.makedirs(output_path)"
   ]
  },
  {
   "cell_type": "code",
   "execution_count": 5,
   "metadata": {},
   "outputs": [],
   "source": [
    "prompt = os.path.join(input_path, file + \".txt\")"
   ]
  },
  {
   "cell_type": "code",
   "execution_count": 6,
   "metadata": {},
   "outputs": [],
   "source": [
    "wave = os.path.join(input_path, file + \".wav\")"
   ]
  },
  {
   "cell_type": "code",
   "execution_count": 7,
   "metadata": {},
   "outputs": [],
   "source": [
    "ultrasound = os.path.join(input_path, file + \".ult\")"
   ]
  },
  {
   "cell_type": "code",
   "execution_count": 8,
   "metadata": {},
   "outputs": [],
   "source": [
    "parameter = os.path.join(input_path, file + \".param\")"
   ]
  },
  {
   "cell_type": "markdown",
   "metadata": {},
   "source": [
    "The ultrasound was recorded at a frame rate of approximately 121.5 fps. Here we reduce the frame rate to 60fps, which still results in a good quality video. You can further reduce this to 25 fps, which is still reasonable. "
   ]
  },
  {
   "cell_type": "code",
   "execution_count": 9,
   "metadata": {},
   "outputs": [],
   "source": [
    "from ustools.animate_utterance import animate_utterance"
   ]
  },
  {
   "cell_type": "code",
   "execution_count": 10,
   "metadata": {},
   "outputs": [
    {
     "name": "stdout",
     "output_type": "stream",
     "text": [
      "cropping audio...\n",
      "reducing ultrasound frame rate from 121.618 to 60...\n",
      "transforming raw ultrasound to world...\n",
      "creating temporary directory...\n",
      "writing image frames to disk...\n",
      "creating video from images frames using ffmpeg...\n",
      "video saved.\n",
      "image frames files deleted from disk.\n",
      "appending audio to video...\n",
      "video creation complete.\n"
     ]
    }
   ],
   "source": [
    "animate_utterance(prompt, wave, ultrasound, parameter, \"output/sample_video.avi\", frame_rate=60)"
   ]
  },
  {
   "cell_type": "code",
   "execution_count": null,
   "metadata": {},
   "outputs": [],
   "source": []
  }
 ],
 "metadata": {
  "kernelspec": {
   "display_name": "Python 3",
   "language": "python",
   "name": "python3"
  },
  "language_info": {
   "codemirror_mode": {
    "name": "ipython",
    "version": 3
   },
   "file_extension": ".py",
   "mimetype": "text/x-python",
   "name": "python",
   "nbconvert_exporter": "python",
   "pygments_lexer": "ipython3",
   "version": "3.6.3"
  }
 },
 "nbformat": 4,
 "nbformat_minor": 2
}
